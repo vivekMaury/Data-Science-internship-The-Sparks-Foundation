{
  "nbformat": 4,
  "nbformat_minor": 0,
  "metadata": {
    "kernelspec": {
      "display_name": "Python 3",
      "language": "python",
      "name": "python3"
    },
    "language_info": {
      "codemirror_mode": {
        "name": "ipython",
        "version": 3
      },
      "file_extension": ".py",
      "mimetype": "text/x-python",
      "name": "python",
      "nbconvert_exporter": "python",
      "pygments_lexer": "ipython3",
      "version": "3.8.5"
    },
    "colab": {
      "name": "Task1.ipynb",
      "provenance": []
    }
  },
  "cells": [
    {
      "cell_type": "markdown",
      "metadata": {
        "id": "HG_xiphbVjjE"
      },
      "source": [
        "\n",
        "# **Task 1 : Prediction using Supervised ML**\n",
        "\n",
        "##  *Problem Statement* : \n",
        "         1. Predict the percentage of an student based on the no. of study hours.\n",
        "         2. What will be predicted score if a student studies for 9.25 hrs/day?\n",
        "         \n",
        "### *Submitted by* : **VIVEKANAND MAURYA**\n",
        "   "
      ]
    },
    {
      "cell_type": "code",
      "metadata": {
        "id": "e-Xw2ST9VjjK"
      },
      "source": [
        "# Importing all the required libraries\n",
        "import pandas as pd\n",
        "import numpy as np\n",
        "import matplotlib.pyplot as plt\n",
        "%matplotlib inline"
      ],
      "execution_count": null,
      "outputs": []
    },
    {
      "cell_type": "code",
      "metadata": {
        "id": "60nKucMvVjjL",
        "outputId": "b5fa1e88-f912-4d9c-976f-0c8be7fe7b53"
      },
      "source": [
        "# Data is used from the link given below\n",
        "url = \"http://bit.ly/w-data\"\n",
        "s_data = pd.read_csv(url)\n",
        "print(\"*********************************************\")\n",
        "print(\"\\tData is successfully imported!\")\n",
        "print(\"*********************************************\")\n",
        "s_data.head(10) # to display first 10 rows"
      ],
      "execution_count": null,
      "outputs": [
        {
          "output_type": "stream",
          "text": [
            "*********************************************\n",
            "\tData is successfully imported!\n",
            "*********************************************\n"
          ],
          "name": "stdout"
        },
        {
          "output_type": "execute_result",
          "data": {
            "text/html": [
              "<div>\n",
              "<style scoped>\n",
              "    .dataframe tbody tr th:only-of-type {\n",
              "        vertical-align: middle;\n",
              "    }\n",
              "\n",
              "    .dataframe tbody tr th {\n",
              "        vertical-align: top;\n",
              "    }\n",
              "\n",
              "    .dataframe thead th {\n",
              "        text-align: right;\n",
              "    }\n",
              "</style>\n",
              "<table border=\"1\" class=\"dataframe\">\n",
              "  <thead>\n",
              "    <tr style=\"text-align: right;\">\n",
              "      <th></th>\n",
              "      <th>Hours</th>\n",
              "      <th>Scores</th>\n",
              "    </tr>\n",
              "  </thead>\n",
              "  <tbody>\n",
              "    <tr>\n",
              "      <th>0</th>\n",
              "      <td>2.5</td>\n",
              "      <td>21</td>\n",
              "    </tr>\n",
              "    <tr>\n",
              "      <th>1</th>\n",
              "      <td>5.1</td>\n",
              "      <td>47</td>\n",
              "    </tr>\n",
              "    <tr>\n",
              "      <th>2</th>\n",
              "      <td>3.2</td>\n",
              "      <td>27</td>\n",
              "    </tr>\n",
              "    <tr>\n",
              "      <th>3</th>\n",
              "      <td>8.5</td>\n",
              "      <td>75</td>\n",
              "    </tr>\n",
              "    <tr>\n",
              "      <th>4</th>\n",
              "      <td>3.5</td>\n",
              "      <td>30</td>\n",
              "    </tr>\n",
              "    <tr>\n",
              "      <th>5</th>\n",
              "      <td>1.5</td>\n",
              "      <td>20</td>\n",
              "    </tr>\n",
              "    <tr>\n",
              "      <th>6</th>\n",
              "      <td>9.2</td>\n",
              "      <td>88</td>\n",
              "    </tr>\n",
              "    <tr>\n",
              "      <th>7</th>\n",
              "      <td>5.5</td>\n",
              "      <td>60</td>\n",
              "    </tr>\n",
              "    <tr>\n",
              "      <th>8</th>\n",
              "      <td>8.3</td>\n",
              "      <td>81</td>\n",
              "    </tr>\n",
              "    <tr>\n",
              "      <th>9</th>\n",
              "      <td>2.7</td>\n",
              "      <td>25</td>\n",
              "    </tr>\n",
              "  </tbody>\n",
              "</table>\n",
              "</div>"
            ],
            "text/plain": [
              "   Hours  Scores\n",
              "0    2.5      21\n",
              "1    5.1      47\n",
              "2    3.2      27\n",
              "3    8.5      75\n",
              "4    3.5      30\n",
              "5    1.5      20\n",
              "6    9.2      88\n",
              "7    5.5      60\n",
              "8    8.3      81\n",
              "9    2.7      25"
            ]
          },
          "metadata": {
            "tags": []
          },
          "execution_count": 42
        }
      ]
    },
    {
      "cell_type": "code",
      "metadata": {
        "id": "TKmGNJnJVjjM",
        "outputId": "ff7fb66c-f9f9-4947-bd14-a37aa1f25fe0"
      },
      "source": [
        "# Before getting any further let's visualize our Data\n",
        "\n",
        "s_data.shape # It returns the row and column of our dataset"
      ],
      "execution_count": null,
      "outputs": [
        {
          "output_type": "execute_result",
          "data": {
            "text/plain": [
              "(25, 2)"
            ]
          },
          "metadata": {
            "tags": []
          },
          "execution_count": 30
        }
      ]
    },
    {
      "cell_type": "markdown",
      "metadata": {
        "id": "DtHLbQgqVjjN"
      },
      "source": [
        "Hence, we have total 25 rows and 2 columns in our Dataset "
      ]
    },
    {
      "cell_type": "code",
      "metadata": {
        "id": "LGdcROq7VjjN",
        "outputId": "94491f72-d4a3-4853-a85a-81210c37b57b"
      },
      "source": [
        "# Data type of our columns\n",
        "s_data.dtypes"
      ],
      "execution_count": null,
      "outputs": [
        {
          "output_type": "execute_result",
          "data": {
            "text/plain": [
              "Hours     float64\n",
              "Scores      int64\n",
              "dtype: object"
            ]
          },
          "metadata": {
            "tags": []
          },
          "execution_count": 31
        }
      ]
    },
    {
      "cell_type": "markdown",
      "metadata": {
        "id": "HJ6WUKDeVjjO"
      },
      "source": [
        "Clearly, we can see that Hours is of type: float64 i.e. float\n",
        "                and Scores is of type: int64 i.e integer"
      ]
    },
    {
      "cell_type": "markdown",
      "metadata": {
        "id": "B9d1qBF3VjjO"
      },
      "source": [
        "Now, let's find some relationship between the data in our dataset"
      ]
    },
    {
      "cell_type": "code",
      "metadata": {
        "id": "9KON6kvHVjjO",
        "outputId": "86666150-1af9-446d-f6d8-d46757ac5847"
      },
      "source": [
        "# plotting Hours vs. Percentage graph\n",
        "\n",
        "s_data.plot(x = 'Hours', y = 'Scores', style = 'o')\n",
        "plt.title('Hours vs. Percentage', size=16)\n",
        "plt.xlabel('Hours Studied', size=12)\n",
        "plt.ylabel('Percentage Score', size=12)\n",
        "plt.show() #to display the figure"
      ],
      "execution_count": null,
      "outputs": [
        {
          "output_type": "display_data",
          "data": {
            "image/png": "[encoded data removed]",
            "text/plain": [
              "<Figure size 432x288 with 1 Axes>"
            ]
          },
          "metadata": {
            "tags": [],
            "needs_background": "light"
          }
        }
      ]
    },
    {
      "cell_type": "markdown",
      "metadata": {
        "id": "s6hvgfg3VjjP"
      },
      "source": [
        "From the graph, we can clearly observe and understand that there exists a +ve linear relationship between the variables 'Hours Studied' and 'Percentage Score' which is ideal to perform Linear Regression."
      ]
    },
    {
      "cell_type": "markdown",
      "metadata": {
        "id": "JXnvF49iVjjP"
      },
      "source": [
        "### Let's Prepare the Data"
      ]
    },
    {
      "cell_type": "markdown",
      "metadata": {
        "id": "pHKr25TIVjjP"
      },
      "source": [
        "The next step is to divide the data into \"attributes\" (inputs) and \"labels\" (outputs)."
      ]
    },
    {
      "cell_type": "code",
      "metadata": {
        "id": "41ZWVwTUVjjP"
      },
      "source": [
        "X = s_data.iloc[:, :-1].values \n",
        "y = s_data.iloc[:, 1].values"
      ],
      "execution_count": null,
      "outputs": []
    },
    {
      "cell_type": "markdown",
      "metadata": {
        "id": "StyuV_p8VjjQ"
      },
      "source": [
        "### Let's Split the Data"
      ]
    },
    {
      "cell_type": "markdown",
      "metadata": {
        "id": "DD4_Qmr-VjjQ"
      },
      "source": [
        " We will now split this data into training and test sets. \n",
        " \n",
        " We'll do this by using Scikit-Learn's built-in train_test_split() method:"
      ]
    },
    {
      "cell_type": "code",
      "metadata": {
        "id": "8c2i615tVjjQ"
      },
      "source": [
        "from sklearn.model_selection import train_test_split  \n",
        "X_train, X_test, y_train, y_test = train_test_split(X, y, \n",
        "                            test_size=0.2, random_state=0) "
      ],
      "execution_count": null,
      "outputs": []
    },
    {
      "cell_type": "markdown",
      "metadata": {
        "id": "mgRtwfXsVjjQ"
      },
      "source": [
        "### Training the Algorithm"
      ]
    },
    {
      "cell_type": "markdown",
      "metadata": {
        "id": "lrP2xarnVjjR"
      },
      "source": [
        "We have split our data into training and testing sets, and now is finally the time to train our algorithm. \n",
        "\n",
        "We will do this using Linear Regression technique.\n",
        "\n",
        "    Linear Regression : Linear regression is a basic predictive analytics technique that uses historical data to predict an output variable."
      ]
    },
    {
      "cell_type": "code",
      "metadata": {
        "id": "XWiivyV1VjjR",
        "outputId": "6d274f7f-8a30-405b-9fdf-1201df95c72b"
      },
      "source": [
        "from sklearn.linear_model import LinearRegression  \n",
        "regressor = LinearRegression()  \n",
        "regressor.fit(X_train, y_train) \n",
        "\n",
        "print(\"\\t****** Training is completed! ******\")"
      ],
      "execution_count": null,
      "outputs": [
        {
          "output_type": "stream",
          "text": [
            "\t****** Training is completed! ******\n"
          ],
          "name": "stdout"
        }
      ]
    },
    {
      "cell_type": "code",
      "metadata": {
        "id": "ucKv-FUuVjjR",
        "outputId": "3dfbb448-b25f-4c6a-b9a2-4c989b08aff7"
      },
      "source": [
        "# Let's plot the Regression line\n",
        "line = regressor.coef_*X + regressor.intercept_\n",
        "\n",
        "# Plotting for the test data\n",
        "plt.title('Plot with Regression line',size=16)\n",
        "plt.xlabel('Hours Studied', size=12)\n",
        "plt.ylabel('Percentage Score', size=12)\n",
        "plt.scatter(X, y, color = 'blue')\n",
        "plt.plot(X, line, color = 'red');\n",
        "plt.show()\n",
        "\n",
        "print(\"\\t****** Training Complete! ******\")"
      ],
      "execution_count": null,
      "outputs": [
        {
          "output_type": "display_data",
          "data": {
            "image/png": "[encoded data removed]",
            "text/plain": [
              "<Figure size 432x288 with 1 Axes>"
            ]
          },
          "metadata": {
            "tags": [],
            "needs_background": "light"
          }
        },
        {
          "output_type": "stream",
          "text": [
            "\t****** Training Complete! ******\n"
          ],
          "name": "stdout"
        }
      ]
    },
    {
      "cell_type": "markdown",
      "metadata": {
        "id": "huxgo6fHVjjR"
      },
      "source": [
        "Now that we have trained our algorithm, it's time to make some predictions.\n",
        "\n",
        "### Making Predictions"
      ]
    },
    {
      "cell_type": "code",
      "metadata": {
        "id": "_dSb4hA4VjjS",
        "outputId": "a6cfdc60-3544-473f-ff52-5c852e657a98"
      },
      "source": [
        "print(X_test) # Testing data - In Hours\n",
        "y_pred = regressor.predict(X_test) # Predicting the scores"
      ],
      "execution_count": null,
      "outputs": [
        {
          "output_type": "stream",
          "text": [
            "[[1.5]\n",
            " [3.2]\n",
            " [7.4]\n",
            " [2.5]\n",
            " [5.9]]\n"
          ],
          "name": "stdout"
        }
      ]
    },
    {
      "cell_type": "code",
      "metadata": {
        "id": "VehEYfcSVjjS",
        "outputId": "7a2c21bb-df77-4456-9dbc-cad0c69ae304"
      },
      "source": [
        "# Comparing Actual vs Predicted Scores\n",
        "df = pd.DataFrame({'Actual Score': y_test, 'Predicted Score': y_pred})  \n",
        "df "
      ],
      "execution_count": null,
      "outputs": [
        {
          "output_type": "execute_result",
          "data": {
            "text/html": [
              "<div>\n",
              "<style scoped>\n",
              "    .dataframe tbody tr th:only-of-type {\n",
              "        vertical-align: middle;\n",
              "    }\n",
              "\n",
              "    .dataframe tbody tr th {\n",
              "        vertical-align: top;\n",
              "    }\n",
              "\n",
              "    .dataframe thead th {\n",
              "        text-align: right;\n",
              "    }\n",
              "</style>\n",
              "<table border=\"1\" class=\"dataframe\">\n",
              "  <thead>\n",
              "    <tr style=\"text-align: right;\">\n",
              "      <th></th>\n",
              "      <th>Actual Score</th>\n",
              "      <th>Predicted Score</th>\n",
              "    </tr>\n",
              "  </thead>\n",
              "  <tbody>\n",
              "    <tr>\n",
              "      <th>0</th>\n",
              "      <td>20</td>\n",
              "      <td>16.884145</td>\n",
              "    </tr>\n",
              "    <tr>\n",
              "      <th>1</th>\n",
              "      <td>27</td>\n",
              "      <td>33.732261</td>\n",
              "    </tr>\n",
              "    <tr>\n",
              "      <th>2</th>\n",
              "      <td>69</td>\n",
              "      <td>75.357018</td>\n",
              "    </tr>\n",
              "    <tr>\n",
              "      <th>3</th>\n",
              "      <td>30</td>\n",
              "      <td>26.794801</td>\n",
              "    </tr>\n",
              "    <tr>\n",
              "      <th>4</th>\n",
              "      <td>62</td>\n",
              "      <td>60.491033</td>\n",
              "    </tr>\n",
              "  </tbody>\n",
              "</table>\n",
              "</div>"
            ],
            "text/plain": [
              "   Actual Score  Predicted Score\n",
              "0            20        16.884145\n",
              "1            27        33.732261\n",
              "2            69        75.357018\n",
              "3            30        26.794801\n",
              "4            62        60.491033"
            ]
          },
          "metadata": {
            "tags": []
          },
          "execution_count": 53
        }
      ]
    },
    {
      "cell_type": "markdown",
      "metadata": {
        "id": "d9NilT0QVjjS"
      },
      "source": [
        "Now, let's also test with our own data when :\n",
        "### What will be predicted score if a student studies for 9.25 hrs/ day?"
      ]
    },
    {
      "cell_type": "code",
      "metadata": {
        "scrolled": true,
        "id": "-MJN-Pn5VjjT",
        "outputId": "03d0e9b5-282d-4751-cf46-495a01152d3d"
      },
      "source": [
        "# Given,  Hours = 9.25\n",
        "hours = 9.25\n",
        "own_pred = round(regressor.predict([[9.25]])[0],3)\n",
        "print(\"*********************************************\")\n",
        "print(\"\\tNo of Hours = {}\".format(hours))\n",
        "\n",
        "print(\"\\tPredicted Score = {}\".format(own_pred))\n",
        "print(\"*********************************************\")"
      ],
      "execution_count": null,
      "outputs": [
        {
          "output_type": "stream",
          "text": [
            "*********************************************\n",
            "\tNo of Hours = 9.25\n",
            "\tPredicted Score = 93.692\n",
            "*********************************************\n"
          ],
          "name": "stdout"
        }
      ]
    },
    {
      "cell_type": "markdown",
      "metadata": {
        "id": "cBbkrl7yVjjT"
      },
      "source": [
        "Hence, if a student studies for **9.25 hours** then, he is expected to score **93.692**"
      ]
    },
    {
      "cell_type": "markdown",
      "metadata": {
        "id": "Nn7UihgMVjjT"
      },
      "source": [
        "Finally, let's evaluate the performance of the Algorithm.\n",
        "\n",
        "Since we are dealing with numerical data, finding Mean Absolute Error would be hingly considered to evaluate the Linear Regression model."
      ]
    },
    {
      "cell_type": "code",
      "metadata": {
        "id": "dXJizO5aVjjT",
        "outputId": "e7306006-8df8-439e-8d8b-b829e06006cf"
      },
      "source": [
        "# Calculating the accuracy of the model\n",
        "from sklearn import metrics  \n",
        "print('Mean Absolute Error:', \n",
        "      metrics.mean_absolute_error(y_test, y_pred)) "
      ],
      "execution_count": null,
      "outputs": [
        {
          "output_type": "stream",
          "text": [
            "Mean Absolute Error: 4.183859899002975\n"
          ],
          "name": "stdout"
        }
      ]
    }
  ]
}